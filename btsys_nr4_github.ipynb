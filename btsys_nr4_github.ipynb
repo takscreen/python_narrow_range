{
 "cells": [
  {
   "cell_type": "code",
   "execution_count": 6,
   "metadata": {
    "hide_input": false
   },
   "outputs": [],
   "source": [
    "# imports\n",
    "import os\n",
    "import time\n",
    "import datetime\n",
    "import pandas as pd\n",
    "import numpy as np\n",
    "import math\n",
    "import pandas_datareader as pdr\n",
    "import matplotlib.pyplot as plt\n",
    "%matplotlib inline"
   ]
  },
  {
   "cell_type": "code",
   "execution_count": 2,
   "metadata": {},
   "outputs": [],
   "source": [
    "def addcol_NR4(data, trend_periods=4, open_col='<OPEN>', high_col='<HIGH>', low_col='<LOW>',\n",
    "                       close_col='<CLOSE>', drop_tr=True):\n",
    "    for index, row in data.iterrows():\n",
    "        prices = [row[open_col], row[high_col], row[low_col], row[close_col]]\n",
    "        day_range = np.amax(prices) - np.amin(prices) \n",
    "        data.at[index,'day_range'] = day_range\n",
    "      \n",
    "        if index < 3:\n",
    "            data.at[index, 'NR4'] = 0\n",
    "            continue\n",
    "\n",
    "        today = day_range\n",
    "        tdm1 = data.at[index-1, 'day_range']\n",
    "        tdm2 = data.at[index-2, 'day_range']\n",
    "        tdm3 = data.at[index-3, 'day_range']\n",
    "        ranges = [day_range, tdm1, tdm2, tdm3]\n",
    "\n",
    "        if today == np.amin(ranges):\n",
    "            data.at[index, 'NR4'] = 1 # yes a NR4 bar\n",
    "        else:\n",
    "            data.at[index, 'NR4'] = 0 # not a NR4 bar\n",
    "\n",
    "    return data"
   ]
  },
  {
   "cell_type": "code",
   "execution_count": 3,
   "metadata": {},
   "outputs": [],
   "source": [
    "def addcol_xmovavg(data, trend_periods=30, open_col='<OPEN>', high_col='<HIGH>', low_col='<LOW>',\n",
    "                       close_col='<CLOSE>', drop_tab=True):\n",
    "    col_name = str(trend_periods) + \"mov_avg\"  \n",
    "    \n",
    "    data[col_name] = data.iloc[:,4].rolling(window=trend_periods).mean()\n",
    "    \n",
    "    for x in range(trend_periods):\n",
    "        data.at[x,col_name] = 0\n",
    "    \n",
    "    return data"
   ]
  },
  {
   "cell_type": "code",
   "execution_count": 4,
   "metadata": {},
   "outputs": [],
   "source": [
    "def addcol_PL(data):\n",
    "    addPL = data\n",
    "    col_name = 'PL'\n",
    "    addPL.at[0,col_name] = 0\n",
    "    for index, row in data.iterrows():\n",
    "        if row['trade'] == 'long':\n",
    "            addPL.loc[index,'PL'] = row['exitprice'] - row['openprice']\n",
    "        else: # short\n",
    "            addPL.loc[index,'PL'] = row['openprice'] - row['exitprice']\n",
    "    return addPL"
   ]
  },
  {
   "cell_type": "code",
   "execution_count": 5,
   "metadata": {},
   "outputs": [],
   "source": [
    "def addcol_cumupl(data):\n",
    "    addcumu = data\n",
    "    col_name = 'cumulative'\n",
    "    addcumu.at[0,col_name] = 0\n",
    "        \n",
    "    for index, row in addcumu.iterrows():\n",
    "        if index ==0:\n",
    "            addcumu.loc[index, col_name] = row['PL']\n",
    "            continue\n",
    "        addcumu.loc[index,col_name] = row['PL'] + addcumu.loc[index-1,col_name]\n",
    "    \n",
    "    return addcumu\n",
    "    "
   ]
  },
  {
   "cell_type": "code",
   "execution_count": 6,
   "metadata": {},
   "outputs": [],
   "source": [
    "def addcol_NDaysTrend(data, trend_periods=3, open_col='<OPEN>', high_col='<HIGH>', low_col='<LOW>',\n",
    "                       close_col='<CLOSE>', drop_tab=True):\n",
    "    \n",
    "    col_name = str(trend_periods) + \"days_trend\"  \n",
    "    strend = 'nodata'\n",
    "    \n",
    "    for index, row in data.iterrows():              \n",
    "        prices = [row[open_col], row[high_col], row[low_col], row[close_col]]  \n",
    "        \n",
    "        if index < trend_periods:      \n",
    "            data.at[index, col_name] = strend\n",
    "            continue\n",
    "                \n",
    "        if index > trend_periods:          \n",
    "            if prices[3] > data.at[index-1, 'Close'] and data.at[index-1, 'Close'] > data.at[index-2, 'Close']:\n",
    "                strend = 'up'\n",
    "            elif prices[3] < data.at[index-1, 'Close'] and data.at[index-1, 'Close'] < data.at[index-2, 'Close']:\n",
    "                strend = 'down'\n",
    "            else:\n",
    "                strend = 'side'\n",
    "                \n",
    "        data.at[index, col_name] = strend\n",
    "        \n",
    "    return data"
   ]
  },
  {
   "cell_type": "code",
   "execution_count": 7,
   "metadata": {},
   "outputs": [],
   "source": []
  },
  {
   "cell_type": "code",
   "execution_count": 8,
   "metadata": {},
   "outputs": [],
   "source": [
    "## RULES ################ DONT DELETE ###################################\n",
    "# NR4 bar = 1, 3daytrend[0]?, if 3 days down, today.close > 20ma, LONG \n",
    "#    -> buy if next_day(high) > today close, exit at today(open) and PL at 5%\n",
    "\n",
    "# NR4 bar = 1, 3daytrend[0]?, if 3 days up, today.close < 20ma, SHORT \n",
    "#    -> sell if next_day(low) > today close, exit at today(open) and PL at 5%\n",
    "# need to get NR4, need to get 3days trend, need to get 30day MA\n",
    "### RULES ################ DONT DELETE ###################################\n",
    "def bts_NR4(symbol,data):    \n",
    "    ### set open, high, low, close columns\n",
    "    open_col = 'Open'\n",
    "    high_col = 'High'\n",
    "    low_col = 'Low'\n",
    "    close_col = 'Close'\n",
    "    \n",
    "    ### set empty tradelogs\n",
    "    columns = ['symbol','trade','opendate','openprice','closedate', 'exitprice']\n",
    "    tradelogs = pd.DataFrame(columns=columns)\n",
    "    tcounter = 0\n",
    "    \n",
    "    ### setup DF for the conditions to check and trades\n",
    "    ma = 25\n",
    "    ma_str = str(ma) + 'mov_avg'\n",
    "    data = addcol_NR4(data, 4, 'Open','High','Low','Close')\n",
    "    data= addcol_NDaysTrend(data, 3, 'Open','High','Low','Close')\n",
    "    data = addcol_xmovavg(data, ma, 'Open','High','Low','Close')\n",
    "    ### set to check 20mov_avg\n",
    "    \n",
    "    opentrade = False\n",
    "    totrade = 'notrade'\n",
    "    opendate =''\n",
    "    openprice = 0\n",
    "    exitdate =''\n",
    "    exitprice = 0\n",
    "    \n",
    "    entryprice=0\n",
    "    profitprice=0\n",
    "    stopprice=0\n",
    "    \n",
    "    for index, row in data.iterrows():              \n",
    "        prices = [row[open_col], row[high_col], row[low_col], row[close_col]]  \n",
    "        \n",
    "        #start checking for trades at position 21 - moving average (ma)\n",
    "        if index < (ma+1):      \n",
    "            continue\n",
    "        \n",
    "        ####step3 check if any open trades, if so, carry on until trade is closed by \"continue\"\n",
    "        if opentrade:\n",
    "            if tradelogs.loc[tcounter,'trade'] == 'short':\n",
    "                if profitprice >= data.loc[index,'Low']:\n",
    "                    tradelogs.loc[tcounter, 'closedate'] = data.loc[index,'Date']\n",
    "                    tradelogs.loc[tcounter, 'exitprice'] = profitprice\n",
    "                    opentrade = False\n",
    "                    tcounter = tcounter + 1\n",
    "                    totrade = 'notrade'\n",
    "                elif stopprice <= data.loc[index,'High']:\n",
    "                    tradelogs.loc[tcounter, 'closedate'] = data.loc[index,'Date']\n",
    "                    tradelogs.loc[tcounter, 'exitprice'] = stopprice\n",
    "                    opentrade = False\n",
    "                    tcounter = tcounter + 1\n",
    "                    totrade = 'notrade'\n",
    "                else:\n",
    "                    continue\n",
    "            elif tradelogs.loc[tcounter,'trade'] == 'long':\n",
    "                if profitprice <= data.loc[index,'High']:\n",
    "                    tradelogs.loc[tcounter, 'closedate'] = data.loc[index,'Date']\n",
    "                    tradelogs.loc[tcounter, 'exitprice'] = profitprice\n",
    "                    opentrade = False\n",
    "                    tcounter = tcounter + 1\n",
    "                    totrade = 'notrade'\n",
    "                elif stopprice >= data.loc[index,'Low']:\n",
    "                    tradelogs.loc[tcounter, 'closedate'] = data.loc[index,'Date']\n",
    "                    tradelogs.loc[tcounter, 'exitprice'] = stopprice\n",
    "                    opentrade = False\n",
    "                    tcounter = tcounter + 1\n",
    "                    totrade = 'notrade'\n",
    "                else:\n",
    "                    continue\n",
    "        \n",
    "        ####step2 check if trade setup after triggered\n",
    "        if (totrade == 'short' or totrade == 'long') and not opentrade:\n",
    "            if totrade == 'short':\n",
    "                #print('log short trade')\n",
    "                if data.loc[index,'Low'] <= entryprice:\n",
    "                    opentrade=True\n",
    "                    tradelogs.loc[tcounter,'trade'] = totrade\n",
    "                    tradelogs.loc[tcounter,'opendate'] = data.loc[index,'Date']\n",
    "                    tradelogs.loc[tcounter,'openprice'] = entryprice \n",
    "                    tradelogs.loc[tcounter,'symbol'] = symbol\n",
    "                    continue\n",
    "                \n",
    "            elif totrade == 'long': # long then TO-DO\n",
    "                #print('log long trade')\n",
    "                if data.loc[index,'High'] >= entryprice:\n",
    "                    opentrade=True\n",
    "                    tradelogs.loc[tcounter,'trade'] = totrade\n",
    "                    tradelogs.loc[tcounter,'opendate'] = data.loc[index,'Date']\n",
    "                    tradelogs.loc[tcounter,'openprice'] = entryprice\n",
    "                    tradelogs.loc[tcounter,'symbol'] = symbol\n",
    "                    continue ## added later, not sure if thisi s the right condition\n",
    "        \n",
    "        ####step1: check if setup is there and ready to be triggerd.\n",
    "        if data.loc[index,'NR4']==1:\n",
    "            #print('same day: ' + data.loc[index, '3days_trend'] + '  previous day: ' + data.loc[index-1, '3days_trend'])                      \n",
    "            if data.loc[index, '3days_trend'] == 'up' or data.loc[index-1, '3days_trend'] == 'up':\n",
    "                #print('TRADE DOWN')\n",
    "                if data.loc[index, ma_str] >= data.loc[index, 'Close']: # downtrend\n",
    "                    totrade = 'short'\n",
    "                    entryprice = data.loc[index, 'Close']*0.995\n",
    "                    profitprice = data.loc[index, 'Close']*0.94\n",
    "                    stopprice = max(data.loc[index, 'Open'],data.loc[index, 'Close'])*1.005\n",
    "                    \n",
    "            elif data.loc[index, '3days_trend'] == 'down' or data.loc[index-1, '3days_trend'] == 'down':\n",
    "                #print('TRADE UP')\n",
    "                if data.loc[index, ma_str] <= data.loc[index,'Close']:\n",
    "                    totrade = 'long'\n",
    "                    entryprice = data.loc[index, 'Close']*1.005\n",
    "                    profitprice = data.loc[index, 'Close']*1.06\n",
    "                    stopprice = min(data.loc[index, 'Open'], data.loc[index, 'Close'])*0.995\n",
    "            else:\n",
    "                #print('dont trade')\n",
    "                pass               \n",
    "\n",
    "\n",
    "    return tradelogs\n",
    "   \n",
    "    "
   ]
  },
  {
   "cell_type": "code",
   "execution_count": 9,
   "metadata": {},
   "outputs": [],
   "source": [
    "def get_symbolFromFilelist(flist):\n",
    "    symbolfilelist = []\n",
    "    for eitem in flist:\n",
    "        symbol = eitem.split('.')\n",
    "        symbolfilelist.append(symbol[0])\n",
    "    return symbolfilelist\n",
    "\n",
    "### provide folder path to this function\n",
    "def get_folderFilelist(path):\n",
    "    file_list = []\n",
    "    file_list = os.listdir(path)  \n",
    "    return file_list"
   ]
  },
  {
   "cell_type": "code",
   "execution_count": 10,
   "metadata": {},
   "outputs": [],
   "source": [
    "def run_bts_allfiles(path):# need to implement for all test files.  then compare to this year with the drop.\n",
    "    \n",
    "    filelist = get_folderFilelist(path)\n",
    "    symbollist = get_symbolFromFilelist(filelist)\n",
    "    \n",
    "    fullrun = pd.DataFrame()\n",
    "    #### iterate through all files in 'path' variable folder\n",
    "    for x in range(len(filelist)):\n",
    "        stockpath = path+\"\\\\\"+filelist[x]\n",
    "        stockdf = pd.read_csv(stockpath)\n",
    "        #print(filelist[x].split('.')[0] +\" : \" + stockpath)\n",
    "        stock_result = bts_NR4(filelist[x].split('.')[0], stockdf) \n",
    "        stock_result = addcol_PL(stock_result)\n",
    "        fullrun = fullrun.append(stock_result, ignore_index=True)\n",
    "        #result3 = result1.append(result2, ignore_index=True)\n",
    "    return fullrun"
   ]
  },
  {
   "cell_type": "code",
   "execution_count": null,
   "metadata": {},
   "outputs": [],
   "source": []
  },
  {
   "cell_type": "code",
   "execution_count": 14,
   "metadata": {},
   "outputs": [],
   "source": [
    "#### run full test by call the run function\n",
    "folder_path = \"C:\\\\Users\\\\koon\\\\Desktop\\\\jupyter\\\\datafile\"\n",
    "fullresult = run_bts_allfiles(folder_path)"
   ]
  },
  {
   "cell_type": "code",
   "execution_count": 15,
   "metadata": {},
   "outputs": [],
   "source": [
    "### set opendate from string to date field\n",
    "fullresult['opendate'] = pd.to_datetime(fullresult['opendate'])\n",
    "fullresult['closedate'] = pd.to_datetime(fullresult['closedate'])"
   ]
  },
  {
   "cell_type": "code",
   "execution_count": 16,
   "metadata": {},
   "outputs": [],
   "source": [
    "### sorted by opend date\n",
    "fullresult = fullresult.sort_values(by='opendate')"
   ]
  },
  {
   "cell_type": "code",
   "execution_count": 17,
   "metadata": {
    "scrolled": true
   },
   "outputs": [],
   "source": [
    "### reset index to opendate\n",
    "fullresult = fullresult.set_index('opendate')"
   ]
  },
  {
   "cell_type": "code",
   "execution_count": 18,
   "metadata": {},
   "outputs": [],
   "source": [
    "### drop incomplete trades\n",
    "fullresult = fullresult.dropna()"
   ]
  },
  {
   "cell_type": "code",
   "execution_count": null,
   "metadata": {},
   "outputs": [],
   "source": [
    "#### write a file with new file name:\n",
    "ts = time.time()\n",
    "st = datetime.datetime.fromtimestamp(ts).strftime('%Y%m%d_%H%M%S')\n",
    "newfilename = 'bts_nr4v2_' + str(st)\n",
    "fullresult.to_csv(newfilename+'.csv') "
   ]
  },
  {
   "cell_type": "code",
   "execution_count": 35,
   "metadata": {},
   "outputs": [
    {
     "data": {
      "text/html": [
       "<div>\n",
       "<style scoped>\n",
       "    .dataframe tbody tr th:only-of-type {\n",
       "        vertical-align: middle;\n",
       "    }\n",
       "\n",
       "    .dataframe tbody tr th {\n",
       "        vertical-align: top;\n",
       "    }\n",
       "\n",
       "    .dataframe thead th {\n",
       "        text-align: right;\n",
       "    }\n",
       "</style>\n",
       "<table border=\"1\" class=\"dataframe\">\n",
       "  <thead>\n",
       "    <tr style=\"text-align: right;\">\n",
       "      <th></th>\n",
       "      <th>PL</th>\n",
       "    </tr>\n",
       "  </thead>\n",
       "  <tbody>\n",
       "    <tr>\n",
       "      <th>count</th>\n",
       "      <td>24454.000000</td>\n",
       "    </tr>\n",
       "    <tr>\n",
       "      <th>mean</th>\n",
       "      <td>0.157645</td>\n",
       "    </tr>\n",
       "    <tr>\n",
       "      <th>std</th>\n",
       "      <td>3.094766</td>\n",
       "    </tr>\n",
       "    <tr>\n",
       "      <th>min</th>\n",
       "      <td>-30.572696</td>\n",
       "    </tr>\n",
       "    <tr>\n",
       "      <th>25%</th>\n",
       "      <td>-0.718000</td>\n",
       "    </tr>\n",
       "    <tr>\n",
       "      <th>50%</th>\n",
       "      <td>-0.352600</td>\n",
       "    </tr>\n",
       "    <tr>\n",
       "      <th>75%</th>\n",
       "      <td>-0.105100</td>\n",
       "    </tr>\n",
       "    <tr>\n",
       "      <th>max</th>\n",
       "      <td>152.202604</td>\n",
       "    </tr>\n",
       "  </tbody>\n",
       "</table>\n",
       "</div>"
      ],
      "text/plain": [
       "                 PL\n",
       "count  24454.000000\n",
       "mean       0.157645\n",
       "std        3.094766\n",
       "min      -30.572696\n",
       "25%       -0.718000\n",
       "50%       -0.352600\n",
       "75%       -0.105100\n",
       "max      152.202604"
      ]
     },
     "execution_count": 35,
     "metadata": {},
     "output_type": "execute_result"
    }
   ],
   "source": [
    "fullresult.describe()"
   ]
  },
  {
   "cell_type": "code",
   "execution_count": 36,
   "metadata": {},
   "outputs": [
    {
     "data": {
      "text/plain": [
       "(24454, 6)"
      ]
     },
     "execution_count": 36,
     "metadata": {},
     "output_type": "execute_result"
    }
   ],
   "source": [
    "fullresult.shape"
   ]
  },
  {
   "cell_type": "code",
   "execution_count": 37,
   "metadata": {},
   "outputs": [
    {
     "data": {
      "text/plain": [
       "Index(['symbol', 'trade', 'openprice', 'closedate', 'exitprice', 'PL'], dtype='object')"
      ]
     },
     "execution_count": 37,
     "metadata": {},
     "output_type": "execute_result"
    }
   ],
   "source": [
    "fullresult.columns"
   ]
  },
  {
   "cell_type": "code",
   "execution_count": 38,
   "metadata": {},
   "outputs": [
    {
     "data": {
      "text/html": [
       "<div>\n",
       "<style scoped>\n",
       "    .dataframe tbody tr th:only-of-type {\n",
       "        vertical-align: middle;\n",
       "    }\n",
       "\n",
       "    .dataframe tbody tr th {\n",
       "        vertical-align: top;\n",
       "    }\n",
       "\n",
       "    .dataframe thead th {\n",
       "        text-align: right;\n",
       "    }\n",
       "</style>\n",
       "<table border=\"1\" class=\"dataframe\">\n",
       "  <thead>\n",
       "    <tr style=\"text-align: right;\">\n",
       "      <th></th>\n",
       "      <th>symbol</th>\n",
       "      <th>trade</th>\n",
       "      <th>openprice</th>\n",
       "      <th>closedate</th>\n",
       "      <th>exitprice</th>\n",
       "      <th>PL</th>\n",
       "    </tr>\n",
       "    <tr>\n",
       "      <th>opendate</th>\n",
       "      <th></th>\n",
       "      <th></th>\n",
       "      <th></th>\n",
       "      <th></th>\n",
       "      <th></th>\n",
       "      <th></th>\n",
       "    </tr>\n",
       "  </thead>\n",
       "  <tbody>\n",
       "    <tr>\n",
       "      <th>2016-02-11</th>\n",
       "      <td>A</td>\n",
       "      <td>short</td>\n",
       "      <td>35.6707</td>\n",
       "      <td>2016-02-12</td>\n",
       "      <td>35.5066</td>\n",
       "      <td>0.16410</td>\n",
       "    </tr>\n",
       "    <tr>\n",
       "      <th>2016-02-11</th>\n",
       "      <td>EA</td>\n",
       "      <td>short</td>\n",
       "      <td>58.6851</td>\n",
       "      <td>2016-02-12</td>\n",
       "      <td>58.4809</td>\n",
       "      <td>0.20415</td>\n",
       "    </tr>\n",
       "    <tr>\n",
       "      <th>2016-02-11</th>\n",
       "      <td>TPX</td>\n",
       "      <td>short</td>\n",
       "      <td>54.0385</td>\n",
       "      <td>2016-02-12</td>\n",
       "      <td>54.5816</td>\n",
       "      <td>-0.54310</td>\n",
       "    </tr>\n",
       "    <tr>\n",
       "      <th>2016-02-11</th>\n",
       "      <td>BZUN</td>\n",
       "      <td>short</td>\n",
       "      <td>5.3929</td>\n",
       "      <td>2016-02-12</td>\n",
       "      <td>5.0948</td>\n",
       "      <td>0.29810</td>\n",
       "    </tr>\n",
       "    <tr>\n",
       "      <th>2016-02-11</th>\n",
       "      <td>MPC</td>\n",
       "      <td>short</td>\n",
       "      <td>31.5117</td>\n",
       "      <td>2016-02-12</td>\n",
       "      <td>31.8786</td>\n",
       "      <td>-0.36695</td>\n",
       "    </tr>\n",
       "  </tbody>\n",
       "</table>\n",
       "</div>"
      ],
      "text/plain": [
       "           symbol  trade openprice  closedate exitprice       PL\n",
       "opendate                                                        \n",
       "2016-02-11      A  short   35.6707 2016-02-12   35.5066  0.16410\n",
       "2016-02-11     EA  short   58.6851 2016-02-12   58.4809  0.20415\n",
       "2016-02-11    TPX  short   54.0385 2016-02-12   54.5816 -0.54310\n",
       "2016-02-11   BZUN  short    5.3929 2016-02-12    5.0948  0.29810\n",
       "2016-02-11    MPC  short   31.5117 2016-02-12   31.8786 -0.36695"
      ]
     },
     "execution_count": 38,
     "metadata": {},
     "output_type": "execute_result"
    }
   ],
   "source": [
    "fullresult.head()"
   ]
  },
  {
   "cell_type": "code",
   "execution_count": null,
   "metadata": {},
   "outputs": [],
   "source": []
  },
  {
   "cell_type": "code",
   "execution_count": null,
   "metadata": {},
   "outputs": [],
   "source": []
  },
  {
   "cell_type": "code",
   "execution_count": null,
   "metadata": {},
   "outputs": [],
   "source": []
  },
  {
   "cell_type": "code",
   "execution_count": null,
   "metadata": {},
   "outputs": [],
   "source": []
  },
  {
   "cell_type": "code",
   "execution_count": null,
   "metadata": {},
   "outputs": [],
   "source": []
  },
  {
   "cell_type": "code",
   "execution_count": null,
   "metadata": {},
   "outputs": [],
   "source": []
  }
 ],
 "metadata": {
  "hide_input": false,
  "kernelspec": {
   "display_name": "Python 3",
   "language": "python",
   "name": "python3"
  },
  "language_info": {
   "codemirror_mode": {
    "name": "ipython",
    "version": 3
   },
   "file_extension": ".py",
   "mimetype": "text/x-python",
   "name": "python",
   "nbconvert_exporter": "python",
   "pygments_lexer": "ipython3",
   "version": "3.7.6"
  }
 },
 "nbformat": 4,
 "nbformat_minor": 4
}
